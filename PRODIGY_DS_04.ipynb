{
  "nbformat": 4,
  "nbformat_minor": 0,
  "metadata": {
    "colab": {
      "provenance": [],
      "authorship_tag": "ABX9TyPLnDyOZjp9GsmUXdK/iotY"
    },
    "kernelspec": {
      "name": "python3",
      "display_name": "Python 3"
    },
    "language_info": {
      "name": "python"
    }
  },
  "cells": [
    {
      "cell_type": "code",
      "execution_count": null,
      "metadata": {
        "id": "PpfE58AhZwqX"
      },
      "outputs": [],
      "source": [
        "# Analyze and visualize sentiment patterns in social media data to understand public opinion and attitudes towards specific topics or brands."
      ]
    },
    {
      "cell_type": "code",
      "source": [
        "# Importing necessary libraries\n",
        "import pandas as pd\n",
        "import matplotlib.pyplot as plt\n",
        "import seaborn as sns"
      ],
      "metadata": {
        "id": "IdKrQFelZ1N9"
      },
      "execution_count": null,
      "outputs": []
    },
    {
      "cell_type": "code",
      "source": [
        "# Load the dataset\n",
        "data = pd.read_csv('/content/twitter_training.csv')"
      ],
      "metadata": {
        "id": "lHOpamSjc_WT"
      },
      "execution_count": null,
      "outputs": []
    },
    {
      "cell_type": "code",
      "source": [
        "print(data.head())"
      ],
      "metadata": {
        "colab": {
          "base_uri": "https://localhost:8080/"
        },
        "id": "oP1-0k01dnIP",
        "outputId": "592ce07d-3363-46bf-e9e5-94acbc106bab"
      },
      "execution_count": null,
      "outputs": [
        {
          "output_type": "stream",
          "name": "stdout",
          "text": [
            "   tweet_id       entity sentiment  \\\n",
            "0      2401  Borderlands  Positive   \n",
            "1      2401  Borderlands  Positive   \n",
            "2      2401  Borderlands  Positive   \n",
            "3      2401  Borderlands  Positive   \n",
            "4      2401  Borderlands  Positive   \n",
            "\n",
            "                                       tweet_content  \n",
            "0  I am coming to the borders and I will kill you...  \n",
            "1  im getting on borderlands and i will kill you ...  \n",
            "2  im coming on borderlands and i will murder you...  \n",
            "3  im getting on borderlands 2 and i will murder ...  \n",
            "4  im getting into borderlands and i can murder y...  \n"
          ]
        }
      ]
    },
    {
      "cell_type": "code",
      "source": [
        "print(data.tail())"
      ],
      "metadata": {
        "colab": {
          "base_uri": "https://localhost:8080/"
        },
        "id": "8pDUMwVhdoOb",
        "outputId": "f564b546-ec70-46bd-be38-8ae7ea63f1a5"
      },
      "execution_count": null,
      "outputs": [
        {
          "output_type": "stream",
          "name": "stdout",
          "text": [
            "       tweet_id  entity sentiment  \\\n",
            "74676      9200  Nvidia  Positive   \n",
            "74677      9200  Nvidia  Positive   \n",
            "74678      9200  Nvidia  Positive   \n",
            "74679      9200  Nvidia  Positive   \n",
            "74680      9200  Nvidia  Positive   \n",
            "\n",
            "                                           tweet_content  \n",
            "74676  Just realized that the Windows partition of my...  \n",
            "74677  Just realized that my Mac window partition is ...  \n",
            "74678  Just realized the windows partition of my Mac ...  \n",
            "74679  Just realized between the windows partition of...  \n",
            "74680  Just like the windows partition of my Mac is l...  \n"
          ]
        }
      ]
    },
    {
      "cell_type": "code",
      "source": [
        "# Check for missing values\n",
        "print(data.isnull().sum())"
      ],
      "metadata": {
        "colab": {
          "base_uri": "https://localhost:8080/"
        },
        "id": "XC4LcAW0dsGa",
        "outputId": "0f28bb04-8f7f-4316-c462-88dd9297d61e"
      },
      "execution_count": null,
      "outputs": [
        {
          "output_type": "stream",
          "name": "stdout",
          "text": [
            "tweet_id           0\n",
            "entity             0\n",
            "sentiment          0\n",
            "tweet_content    686\n",
            "dtype: int64\n"
          ]
        }
      ]
    },
    {
      "cell_type": "code",
      "source": [
        "# Explore sentiment distribution\n",
        "sentiment_counts = data['sentiment'].value_counts()\n",
        "print(sentiment_counts)"
      ],
      "metadata": {
        "colab": {
          "base_uri": "https://localhost:8080/"
        },
        "id": "t1G57U5xgV2y",
        "outputId": "4b24b756-8e6f-41f7-910f-0c80902bcd6f"
      },
      "execution_count": null,
      "outputs": [
        {
          "output_type": "stream",
          "name": "stdout",
          "text": [
            "sentiment\n",
            "Negative      22542\n",
            "Positive      20831\n",
            "Neutral       18318\n",
            "Irrelevant    12990\n",
            "Name: count, dtype: int64\n"
          ]
        }
      ]
    },
    {
      "cell_type": "code",
      "source": [
        "# Visualize sentiment distribution\n",
        "plt.figure(figsize=(6, 4))\n",
        "sns.countplot(data=data, x='sentiment')\n",
        "plt.title('Sentiment Distribution')\n",
        "plt.xlabel('Sentiment')\n",
        "plt.ylabel('Count')\n",
        "plt.show()"
      ],
      "metadata": {
        "colab": {
          "base_uri": "https://localhost:8080/",
          "height": 410
        },
        "id": "v8gBxh9wgiKN",
        "outputId": "82c4a8d6-547d-4bc5-ae96-27df339c484d"
      },
      "execution_count": null,
      "outputs": [
        {
          "output_type": "display_data",
          "data": {
            "text/plain": [
              "<Figure size 600x400 with 1 Axes>"
            ],
            "image/png": "[encoded data removed]"
          },
          "metadata": {}
        }
      ]
    }
  ]
}